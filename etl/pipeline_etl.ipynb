{
 "cells": [
  {
   "cell_type": "markdown",
   "source": [
    "##### Configurações"
   ],
   "metadata": {
    "application/vnd.databricks.v1+cell": {
     "title": "",
     "showTitle": false,
     "inputWidgets": {},
     "nuid": "2847333b-6046-4fe8-acfe-0f57356d706d"
    }
   }
  },
  {
   "cell_type": "code",
   "source": [
    "S3_BUCKET_NAME = \"YOUR_S3_BUCKET_NAME\""
   ],
   "metadata": {
    "application/vnd.databricks.v1+cell": {
     "title": "",
     "showTitle": false,
     "inputWidgets": {},
     "nuid": "a7af28e2-b066-48ad-b9d7-3fc010a63fc5"
    }
   },
   "outputs": [
    {
     "output_type": "display_data",
     "metadata": {
      "application/vnd.databricks.v1+output": {
       "datasetInfos": [],
       "data": "<div class=\"ansiout\"></div>",
       "removedWidgets": [],
       "addedWidgets": {},
       "type": "html",
       "arguments": {}
      }
     },
     "data": {
      "text/html": [
       "<style scoped>\n  .ansiout {\n    display: block;\n    unicode-bidi: embed;\n    white-space: pre-wrap;\n    word-wrap: break-word;\n    word-break: break-all;\n    font-family: \"Source Code Pro\", \"Menlo\", monospace;;\n    font-size: 13px;\n    color: #555;\n    margin-left: 4px;\n    line-height: 19px;\n  }\n</style>\n<div class=\"ansiout\"></div>"
      ]
     }
    }
   ],
   "execution_count": 0
  },
  {
   "cell_type": "markdown",
   "source": [
    "##### Schemas e bibliotecas"
   ],
   "metadata": {
    "application/vnd.databricks.v1+cell": {
     "title": "",
     "showTitle": false,
     "inputWidgets": {},
     "nuid": "2a6c1688-1778-4397-8f98-ba4fb92c1d08"
    }
   }
  },
  {
   "cell_type": "code",
   "source": [
    "from pyspark.sql.types import StructType, StructField, IntegerType, StringType, LongType, \\\nDoubleType, BooleanType, TimestampType, DateType, ArrayType, MapType, DecimalType, ByteType, BinaryType\nfrom pyspark.sql.functions import to_json, from_json, explode\nfrom pyspark.sql.functions import col, upper, date_format\nimport uuid\nfrom delta.tables import DeltaTable\nfrom Crypto.Cipher import AES\nfrom Crypto.Hash import SHA256\nfrom pyspark.sql.functions import lit, concat, upper\nimport time\n\n# Definimos todos os schemas de entrada explicitamente para evitar uma passagem adicional sobre o conjunto de dados\n\nrestaurant_schema = StructType([\n  StructField(\"id\", StringType(), True), \n  StructField(\"created_at\", TimestampType(), True),\n  StructField(\"enabled\", BooleanType(), True), \n  StructField(\"price_range\", StringType(), True), \n  StructField(\"average_ticket\", IntegerType(), True), \n  StructField(\"takeout_time\", IntegerType(), True), \n  StructField(\"delivery_time\", IntegerType(), True), \n  StructField(\"minimum_order_value\", DecimalType(), True), \n  StructField(\"merchant_zip_code\", IntegerType(), True), \n  StructField(\"merchant_city\", StringType(), True), \n  StructField(\"merchant_state\", StringType(), True), \n  StructField(\"merchant_country\", StringType(), True)\n])\n\nconsumer_schema = StructType([\n  StructField(\"customer_id\", StringType(), True),\n  StructField(\"language\", StringType(), True),\n  StructField(\"created_at\", StringType(), True),\n  StructField(\"active\", StringType(), True),\n  StructField(\"customer_name\", StringType(), True),\n  StructField(\"customer_phone_area\", StringType(), True),\n  StructField(\"customer_phone_number\", StringType(), True)\n])\n\norder_schema = StructType([\n  StructField(\"cpf\", StringType(), True), \n  StructField(\"customer_id\", StringType(), True),\n  StructField(\"customer_name\", StringType(), True), \n  StructField(\"delivery_address_city\", StringType(), True), \n  StructField(\"delivery_address_country\", StringType(), True), \n  StructField(\"delivery_address_district\", StringType(), True),\n  StructField(\"delivery_address_external_id\", StringType(), True), \n  StructField(\"delivery_address_latitude\", StringType(), True) ,\n  StructField(\"delivery_address_longitude\", StringType(), True) ,\n  StructField(\"delivery_address_state\", StringType(), True) ,\n  StructField(\"delivery_address_zip_code\", StringType(), True) , \n  StructField(\"merchant_id\", StringType(), True) ,\n  StructField(\"merchant_latitude\", StringType(), True), \n  StructField(\"merchant_longitude\", StringType(), True), \n  StructField(\"merchant_timezone\", StringType(), True),\n  StructField(\"order_created_at\", TimestampType(), True),\n  StructField(\"order_id\", StringType(), True),\n  StructField(\"order_scheduled\", BooleanType(), True),\n  StructField(\"order_scheduled_date\", TimestampType(), True),\n  StructField(\"order_total_amount\", DecimalType(), True),\n  StructField(\"origin_platform\", StringType(), True), \n  StructField(\"items\", StringType(), True)\n])\n\nitems_schema = ArrayType(StructType([\n  StructField(\"name\", StringType(), True), \n  StructField(\"quantity\", DoubleType(), True),\n  StructField(\"externalId\", StringType(), True),\n  StructField(\"sequence\", IntegerType(), True),\n  StructField(\"addition\", StructType([ StructField(\"value\", StringType(), True) , StructField(\"currency\", StringType(), True) ]), True),\n  StructField(\"discount\", StructType([ StructField(\"value\", StringType(), True) , StructField(\"currency\", StringType(), True) ]), True),\n  StructField(\"unitPrice\", StructType([ StructField(\"value\", StringType(), True) , StructField(\"currency\", StringType(), True) ]), True),\n  StructField(\"totalValue\", StructType([ StructField(\"value\", StringType(), True) , StructField(\"currency\", StringType(), True) ]), True),\n  StructField(\"customerNote\", StringType(), True),\n  StructField(\"integrationId\", StringType(), True),\n  StructField(\"categoryName\", StringType(), True),\n  StructField(\"totalAddition\", StructType([ StructField(\"value\", StringType(), True) , StructField(\"currency\", StringType(), True) ]), True),\n  StructField(\"totalDiscount\", StructType([ StructField(\"value\", StringType(), True) , StructField(\"currency\", StringType(), True) ]), True),\n  StructField(\"garnishItems\", ArrayType(StructType([ \n        StructField(\"name\", StringType(), True) , \n        StructField(\"quantity\", DoubleType(), True),\n        StructField(\"addition\", StructType([ StructField(\"value\", StringType(), True) , StructField(\"currency\", StringType(), True) ]), True),\n        StructField(\"discount\", StructType([ StructField(\"value\", StringType(), True) , StructField(\"currency\", StringType(), True) ]), True),\n        StructField(\"sequence\", IntegerType(), True),\n        StructField(\"unitPrice\", StructType([ StructField(\"value\", StringType(), True) , StructField(\"currency\", StringType(), True) ]), True),\n        StructField(\"categoryId\", StringType(), True),\n        StructField(\"categoryName\", StringType(), True),\n        StructField(\"integrationId\", StringType(), True),\n        StructField(\"totalValue\", StructType([ StructField(\"value\", StringType(), True) , StructField(\"currency\", StringType(), True) ]), True),\n              ])), True)\n]))\n\nitems_garnish_schema = ArrayType(StructType([\n  StructField(\"name\", StringType(), True), \n  StructField(\"quantity\", DoubleType(), True),\n  StructField(\"addition\", StructType([ StructField(\"value\", StringType(), True) , StructField(\"currency\", StringType(), True) ]), True),\n  StructField(\"discount\", StructType([ StructField(\"value\", StringType(), True) , StructField(\"currency\", StringType(), True) ]), True),\n  StructField(\"sequence\", IntegerType(), True),\n  StructField(\"unitPrice\", StructType([ StructField(\"value\", StringType(), True) , StructField(\"currency\", StringType(), True) ]), True),\n  StructField(\"categoryId\", StringType(), True),\n  StructField(\"categoryName\", StringType(), True),\n  StructField(\"integrationId\", StringType(), True),\n  StructField(\"totalValue\", StructType([ StructField(\"value\", StringType(), True) , StructField(\"currency\", StringType(), True) ]), True)\n]))"
   ],
   "metadata": {
    "application/vnd.databricks.v1+cell": {
     "title": "",
     "showTitle": false,
     "inputWidgets": {},
     "nuid": "26c01818-3ee7-43e9-8a64-5fcc0e0f5d15"
    }
   },
   "outputs": [
    {
     "output_type": "display_data",
     "metadata": {
      "application/vnd.databricks.v1+output": {
       "datasetInfos": [],
       "data": "<div class=\"ansiout\"></div>",
       "removedWidgets": [],
       "addedWidgets": {},
       "type": "html",
       "arguments": {}
      }
     },
     "data": {
      "text/html": [
       "<style scoped>\n  .ansiout {\n    display: block;\n    unicode-bidi: embed;\n    white-space: pre-wrap;\n    word-wrap: break-word;\n    word-break: break-all;\n    font-family: \"Source Code Pro\", \"Menlo\", monospace;;\n    font-size: 13px;\n    color: #555;\n    margin-left: 4px;\n    line-height: 19px;\n  }\n</style>\n<div class=\"ansiout\"></div>"
      ]
     }
    }
   ],
   "execution_count": 0
  },
  {
   "cell_type": "code",
   "source": [
    "PATH_ROOT = \"/mnt/s3\"\n\n#display(dbutils.fs.ls(PATH_ROOT))\n\nSOURCE_BUCKET_NAME = 'ifood-data-architect-test-source'\nPATH_DELTA_BRONZE = '{}/delta_lake/bronze'.format(PATH_ROOT)\nPATH_DELTA_SILVER = '{}/delta_lake/silver'.format(PATH_ROOT)\nPATH_DELTA_GOLD = '{}/delta_lake/gold'.format(PATH_ROOT)\nPATH_CONSUMER_ORDER = '{}/delta_lake/lookup'.format(PATH_ROOT)\nPATH_TEMP = '{}/delta_lake/tmp'.format(PATH_ROOT)\n\n# Raw Paths\nPATH_RAW_RESTAURANT=\"s3://{}/restaurant.csv.gz\".format(SOURCE_BUCKET_NAME)\nPATH_RAW_CONSUMER=\"s3://{}/consumer.csv.gz\".format(SOURCE_BUCKET_NAME)\nPATH_RAW_ORDER=\"s3://{}/order.json.gz\".format(SOURCE_BUCKET_NAME)\n\n# Bronze Paths\nPATH_DELTA_BRONZE_RESTAURANT=\"{}/restaurant/\".format(PATH_DELTA_BRONZE)\nPATH_DELTA_BRONZE_CONSUMER=\"{}/consumer/\".format(PATH_DELTA_BRONZE)\nPATH_DELTA_BRONZE_ORDER=\"{}/order/\".format(PATH_DELTA_BRONZE)\n\n# Silver Paths\nPATH_DELTA_SILVER_RESTAURANT=\"{}/restaurant/\".format(PATH_DELTA_SILVER)\nPATH_DELTA_SILVER_CONSUMER=\"{}/consumer/\".format(PATH_DELTA_SILVER)\nPATH_DELTA_SILVER_ORDER=\"{}/order/\".format(PATH_DELTA_SILVER)\nPATH_DELTA_SILVER_ORDER_ITEM=\"{}/order_item/\".format(PATH_DELTA_SILVER)\nPATH_DELTA_SILVER_ORDER_GARNISH_ITEM=\"{}/garnish_item/\".format(PATH_DELTA_SILVER)\n\n# Gold Paths\nPATH_DELTA_GOLD_ORDER=\"{}/order/\".format(PATH_DELTA_GOLD)\nPATH_DELTA_GOLD_ORDER_ITEM=\"{}/order_item/\".format(PATH_DELTA_GOLD)\nPATH_DELTA_GOLD_ORDER_GARNISH_ITEM=\"{}/garnish_item/\".format(PATH_DELTA_GOLD)\n\n# Lookup table\nPATH_CONSUMER_ORDER_LOOKUP=\"{}/consumer_order/\".format(PATH_CONSUMER_ORDER)\n\n#dbutils.fs.rm(\"{}/delta_lake/\".format(PATH_ROOT), True)\n#dbutils.fs.mkdirs(\"{}/delta_lake/\".format(PATH_ROOT))"
   ],
   "metadata": {
    "application/vnd.databricks.v1+cell": {
     "title": "",
     "showTitle": false,
     "inputWidgets": {},
     "nuid": "6f905292-7137-4549-aae9-c320e007ae05"
    }
   },
   "outputs": [
    {
     "output_type": "display_data",
     "metadata": {
      "application/vnd.databricks.v1+output": {
       "datasetInfos": [],
       "data": "<div class=\"ansiout\"></div>",
       "removedWidgets": [],
       "addedWidgets": {},
       "type": "html",
       "arguments": {}
      }
     },
     "data": {
      "text/html": [
       "<style scoped>\n  .ansiout {\n    display: block;\n    unicode-bidi: embed;\n    white-space: pre-wrap;\n    word-wrap: break-word;\n    word-break: break-all;\n    font-family: \"Source Code Pro\", \"Menlo\", monospace;;\n    font-size: 13px;\n    color: #555;\n    margin-left: 4px;\n    line-height: 19px;\n  }\n</style>\n<div class=\"ansiout\"></div>"
      ]
     }
    }
   ],
   "execution_count": 0
  },
  {
   "cell_type": "code",
   "source": [
    "dict_layer_tables = {\n        'bronze': ['restaurant','consumer','order'],\n        'silver': ['restaurant','consumer','order','order_item','garnish_item'],\n        'gold': ['order','order_item','garnish_item']\n    }\n\nuuid_udf = udf(lambda : str(uuid.uuid4()),StringType())\n\ndef generate_manifest_files(*delta_layers):\n  \"\"\" Create files manifest \"\"\"\n  for delta_layer in delta_layers:\n    tables = dict_layer_tables[delta_layer]\n    for table in tables:\n      delta_table = DeltaTable.forPath(spark,'s3://{}/delta_lake/{}/{}'.format(S3_BUCKET_NAME, delta_layer, table))\n      delta_table.generate(\"symlink_format_manifest\")\n  print('Manifest file generated to layers: {}'.format(delta_layers))\n  \ndef optimize_delta_tables(*delta_layers):\n  \"\"\" Corrigindo possíveis problemas de performace caso tenhamos muitos arquivos pequenos. \n  Assim, compactamos arquivos pequenos em um arquivo maior. \"\"\"\n  for delta_layer in delta_layers:\n    tables = dict_layer_tables[delta_layer]\n    for table in tables:\n      sql_statement = \"OPTIMIZE delta.`s3://{}/delta_lake/{}/{}/`;\".format(S3_BUCKET_NAME, delta_layer, table)\n      spark.sql(sql_statement)\n  print('Tables optimized in layers: {}'.format(delta_layers))\n  \ndef generate_symlink_format_manifest(*delta_layers):\n  \"\"\" Sicronização automática dos arquivos de manifest. \n  Obs.: Isso é útil caso os dados sejam atualizados fora dessa pipeline \"\"\"\n  for delta_layer in delta_layers:\n    tables = dict_layer_tables[delta_layer]\n    for table in tables:\n      sql_statement = \"ALTER TABLE delta.`s3://{}/delta_lake/{}/{}/` SET TBLPROPERTIES(delta.compatibility.symlinkFormatManifest.enabled=true);\".format(S3_BUCKET_NAME, delta_layer, table)\n      spark.sql(sql_statement)\n  print('symlinkFormatManifest enabled to all tables in layers: {}'.format(delta_layers))\n  \ndef file_exists(path):\n  try:\n    dbutils.fs.ls(path)\n    return True\n  except Exception as e:\n    if 'java.io.FileNotFoundException' in str(e):\n      return False\n    else:\n      raise\n      \ndef mount_s3_dir(mount_dir, path_root):\n  dbutils.fs.mount(mount_dir, path_root)\n  print('S3 path mounted on: {}{}'.format(mount_dir, path_root))\n      \ndef init_s3_env(bucket_name, path_root):\n  mount_dir = \"s3a://%s\" % bucket_name\n  try:\n    dbutils.fs.unmount(PATH_ROOT)\n    mount_s3_dir(mount_dir, path_root)\n  except Exception as e:\n    if 'java.rmi.RemoteException' in str(e):\n      print('Directory not mounted')\n      mount_s3_dir(mount_dir, path_root)\n    \ninit_s3_env(S3_BUCKET_NAME, PATH_ROOT)\n# dbutils.fs.rm(\"{}/delta_lake/\".format(PATH_ROOT), True)\n# dbutils.fs.mkdirs(\"{}/delta_lake/\".format(PATH_ROOT))"
   ],
   "metadata": {
    "application/vnd.databricks.v1+cell": {
     "title": "",
     "showTitle": false,
     "inputWidgets": {},
     "nuid": "0e7ef23a-9eab-49b6-8d47-07271e8b0cd0"
    }
   },
   "outputs": [
    {
     "output_type": "display_data",
     "metadata": {
      "application/vnd.databricks.v1+output": {
       "datasetInfos": [],
       "data": "<div class=\"ansiout\">/mnt/s3 has been unmounted.\nS3 path mounted on: s3a://ultimo-xyz2021/mnt/s3\n</div>",
       "removedWidgets": [],
       "addedWidgets": {},
       "type": "html",
       "arguments": {}
      }
     },
     "data": {
      "text/html": [
       "<style scoped>\n  .ansiout {\n    display: block;\n    unicode-bidi: embed;\n    white-space: pre-wrap;\n    word-wrap: break-word;\n    word-break: break-all;\n    font-family: \"Source Code Pro\", \"Menlo\", monospace;;\n    font-size: 13px;\n    color: #555;\n    margin-left: 4px;\n    line-height: 19px;\n  }\n</style>\n<div class=\"ansiout\">/mnt/s3 has been unmounted.\nS3 path mounted on: s3a://ultimo-xyz2021/mnt/s3\n</div>"
      ]
     }
    }
   ],
   "execution_count": 0
  },
  {
   "cell_type": "markdown",
   "source": [
    "##### Aquisição dos dados"
   ],
   "metadata": {
    "application/vnd.databricks.v1+cell": {
     "title": "",
     "showTitle": false,
     "inputWidgets": {},
     "nuid": "cd110234-bae0-4238-b7e5-6a69fc544fc4"
    }
   }
  },
  {
   "cell_type": "code",
   "source": [
    "# Read from data lake\nraw_restaurant = spark.read.option(\"header\",\"true\").schema(restaurant_schema).csv(PATH_RAW_RESTAURANT)\nraw_consumer = spark.read.option('header', \"true\").schema(consumer_schema).csv(PATH_RAW_CONSUMER)\nraw_order = spark.read.schema(order_schema).json(PATH_RAW_ORDER)"
   ],
   "metadata": {
    "application/vnd.databricks.v1+cell": {
     "title": "",
     "showTitle": false,
     "inputWidgets": {},
     "nuid": "e7d91fdc-90a2-492d-8976-d0b52b559891"
    }
   },
   "outputs": [
    {
     "output_type": "display_data",
     "metadata": {
      "application/vnd.databricks.v1+output": {
       "datasetInfos": [],
       "data": "<div class=\"ansiout\"></div>",
       "removedWidgets": [],
       "addedWidgets": {},
       "type": "html",
       "arguments": {}
      }
     },
     "data": {
      "text/html": [
       "<style scoped>\n  .ansiout {\n    display: block;\n    unicode-bidi: embed;\n    white-space: pre-wrap;\n    word-wrap: break-word;\n    word-break: break-all;\n    font-family: \"Source Code Pro\", \"Menlo\", monospace;;\n    font-size: 13px;\n    color: #555;\n    margin-left: 4px;\n    line-height: 19px;\n  }\n</style>\n<div class=\"ansiout\"></div>"
      ]
     }
    }
   ],
   "execution_count": 0
  },
  {
   "cell_type": "markdown",
   "source": [
    "##### Prividade: Pseudonimização"
   ],
   "metadata": {
    "application/vnd.databricks.v1+cell": {
     "title": "",
     "showTitle": false,
     "inputWidgets": {},
     "nuid": "09c2a273-f12e-4cf0-907f-3c14b3549cf2"
    }
   }
  },
  {
   "cell_type": "code",
   "source": [
    "columns_consumer_to_pseudonymous = [col(\"consumer.{}\".format(c)).alias('consumer_{}'.format(c)) for c in raw_consumer.columns]\ncolumns_order_to_pseudonymous = [col(\"order.{}\".format(c)).alias(\"order_{}\".format(c)) for c in raw_order.columns]\nconsumer_personal_informations = ['customer_name', 'customer_phone_area','customer_phone_number']\norder_personal_informations = ['cpf', 'consumer_name']\nconsumer_order_lookup_columns = ['pseudonymous_id','order_customer_name', 'consumer_customer_phone_area','consumer_customer_phone_number','order_cpf']\n\nconsumer_order = raw_consumer.alias('consumer').join(raw_order.alias('order'), raw_consumer.customer_id == raw_order.customer_id).select(columns_consumer_to_pseudonymous + columns_order_to_pseudonymous)\n\nsep_char = lit(\"|\")\ncoluns_serialization = concat(upper('order_cpf'), sep_char, upper('order_customer_name'), sep_char, upper('consumer_customer_phone_area'), sep_char, upper('consumer_customer_phone_number')).alias('id_serialize')\nconsumer_order = consumer_order.withColumn('id_serialize', coluns_serialization)\n\n# IMPORTANTE: Apenas titulo de exemplo. Em cenários reais obtemos a key por meio de serviços de Secret Managment, como AWS Secrets Manager ou Databricks Secret Scopes. Como no de código comentado abaixo.\n# encryption_key = dbutils.secrets.get(scope = \"scope-etl\", key = \"etlid\")\nencryption_key = 'A4NECBPIU5LDUEAC9A8DGLBBKSGLBYEB'\n\n@udf(returnType=BinaryType())\ndef udf_pseudonymous(text, encrypt_key):\n  def encrypt(text):\n    cipher = AES.new(encrypt_key, AES.MODE_ECB)\n    text_encrypt = cipher.encrypt(text)\n    return text_encrypt\n  def sha_256(text):\n    hash_object = SHA256.new()\n    hash_object.update(bytes(text, encoding='utf8'))\n    text_hash = hash_object.hexdigest()\n    return text_hash\n  return encrypt(sha_256(text)) \n\nconsumer_order_pseudonymous = consumer_order.withColumn('pseudonymous_id', udf_pseudonymous(col('id_serialize'), lit(encryption_key))) \nconsumer_order_lookup = consumer_order_pseudonymous.select(consumer_order_lookup_columns)\n\n# Demonstrating compliance with the GDPR in Recital 78 “pseudonymising personal data as soon as possible.”\nconsumer_order_lookup.write.format(\"delta\").mode('overwrite').save(PATH_CONSUMER_ORDER_LOOKUP)\n\nconsumer_pseudonymous_columns = ['consumer_{}'.format(c) for c in raw_consumer.columns]\norder_pseudonymous_columns = ['order_{}'.format(c) for c in raw_order.columns]\n\ncolumns_pseudonymous_to_order = [col(\"{}\".format(c_lookup)).alias('{}'.format(c_order)) for c_lookup, c_order in zip(order_pseudonymous_columns, raw_order.columns)] + [col('pseudonymous_id')]\ncolumns_pseudonymous_to_consumer = [col(\"{}\".format(c_lookup)).alias('{}'.format(c_consumer)) for c_lookup, c_consumer in zip(consumer_pseudonymous_columns, raw_consumer.columns)] + [col('pseudonymous_id')]\n\n#display(consumer_order_pseudonymous.select(columns_lookup_to_consumer).drop(*consumer_personal_informations))\n#display(consumer_order_pseudonymous.select(columns_lookup_to_order).drop(*order_personal_informations))\n\nconsumer = consumer_order_pseudonymous.select(columns_pseudonymous_to_consumer).drop(*consumer_personal_informations)\norder = consumer_order_pseudonymous.select(columns_pseudonymous_to_order).drop(*order_personal_informations)"
   ],
   "metadata": {
    "application/vnd.databricks.v1+cell": {
     "title": "",
     "showTitle": false,
     "inputWidgets": {},
     "nuid": "2b31b0d5-fb42-43ef-99c5-b8c37d54ba06"
    }
   },
   "outputs": [
    {
     "output_type": "display_data",
     "metadata": {
      "application/vnd.databricks.v1+output": {
       "datasetInfos": [],
       "data": "<div class=\"ansiout\"></div>",
       "removedWidgets": [],
       "addedWidgets": {},
       "type": "html",
       "arguments": {}
      }
     },
     "data": {
      "text/html": [
       "<style scoped>\n  .ansiout {\n    display: block;\n    unicode-bidi: embed;\n    white-space: pre-wrap;\n    word-wrap: break-word;\n    word-break: break-all;\n    font-family: \"Source Code Pro\", \"Menlo\", monospace;;\n    font-size: 13px;\n    color: #555;\n    margin-left: 4px;\n    line-height: 19px;\n  }\n</style>\n<div class=\"ansiout\"></div>"
      ]
     }
    }
   ],
   "execution_count": 0
  },
  {
   "cell_type": "code",
   "source": [
    "# Essa trecho de codigo é apenas um exemlo e não se aplica o pipeline. Apenas exemplificando como os dados podem ser descriptografados, caso necessarios\n@udf(returnType=StringType())\ndef udf_decrypt(text, k):\n  decipher = AES.new(k, AES.MODE_ECB)\n  texts_decrypt =  decipher.decrypt(bytes(text))\n  return str(texts_decrypt, encoding='utf8')\n#display(consumer_order.withColumn('pseudonymous_id', udf_pseudonymous(col('id_serialize'), lit(encryption_key))))"
   ],
   "metadata": {
    "application/vnd.databricks.v1+cell": {
     "title": "",
     "showTitle": false,
     "inputWidgets": {},
     "nuid": "626f5855-0bdc-468e-be3c-e8816f6fbf10"
    }
   },
   "outputs": [
    {
     "output_type": "display_data",
     "metadata": {
      "application/vnd.databricks.v1+output": {
       "datasetInfos": [],
       "data": "<div class=\"ansiout\"></div>",
       "removedWidgets": [],
       "addedWidgets": {},
       "type": "html",
       "arguments": {}
      }
     },
     "data": {
      "text/html": [
       "<style scoped>\n  .ansiout {\n    display: block;\n    unicode-bidi: embed;\n    white-space: pre-wrap;\n    word-wrap: break-word;\n    word-break: break-all;\n    font-family: \"Source Code Pro\", \"Menlo\", monospace;;\n    font-size: 13px;\n    color: #555;\n    margin-left: 4px;\n    line-height: 19px;\n  }\n</style>\n<div class=\"ansiout\"></div>"
      ]
     }
    }
   ],
   "execution_count": 0
  },
  {
   "cell_type": "markdown",
   "source": [
    "##### Ingestão"
   ],
   "metadata": {
    "application/vnd.databricks.v1+cell": {
     "title": "",
     "showTitle": false,
     "inputWidgets": {},
     "nuid": "82f9a501-39ad-4154-a27f-a7f13488012e"
    }
   }
  },
  {
   "cell_type": "code",
   "source": [
    "# Raw Ingestion\nraw_restaurant.write.format(\"delta\").mode('overwrite').save(PATH_DELTA_BRONZE_RESTAURANT)\nconsumer.write.format(\"delta\").mode('overwrite').save(PATH_DELTA_BRONZE_CONSUMER)\norder.write.format(\"delta\").mode('overwrite').save(PATH_DELTA_BRONZE_ORDER)\n\n# Read from delta lakedata\nrestaurant = spark.read.format(\"delta\").load(PATH_DELTA_BRONZE_RESTAURANT)\nconsumer = spark.read.format(\"delta\").load(PATH_DELTA_BRONZE_CONSUMER)\norder = spark.read.format(\"delta\").load(PATH_DELTA_BRONZE_ORDER)"
   ],
   "metadata": {
    "application/vnd.databricks.v1+cell": {
     "title": "",
     "showTitle": false,
     "inputWidgets": {},
     "nuid": "e3002559-bed0-4acb-b74e-5cd2073394ad"
    }
   },
   "outputs": [
    {
     "output_type": "display_data",
     "metadata": {
      "application/vnd.databricks.v1+output": {
       "datasetInfos": [],
       "data": "<div class=\"ansiout\"></div>",
       "removedWidgets": [],
       "addedWidgets": {},
       "type": "html",
       "arguments": {}
      }
     },
     "data": {
      "text/html": [
       "<style scoped>\n  .ansiout {\n    display: block;\n    unicode-bidi: embed;\n    white-space: pre-wrap;\n    word-wrap: break-word;\n    word-break: break-all;\n    font-family: \"Source Code Pro\", \"Menlo\", monospace;;\n    font-size: 13px;\n    color: #555;\n    margin-left: 4px;\n    line-height: 19px;\n  }\n</style>\n<div class=\"ansiout\"></div>"
      ]
     }
    }
   ],
   "execution_count": 0
  },
  {
   "cell_type": "code",
   "source": [
    "generate_manifest_files('bronze')"
   ],
   "metadata": {
    "application/vnd.databricks.v1+cell": {
     "title": "",
     "showTitle": false,
     "inputWidgets": {},
     "nuid": "915c70ff-fffb-4da2-8c1a-7f8e262cc036"
    }
   },
   "outputs": [
    {
     "output_type": "display_data",
     "metadata": {
      "application/vnd.databricks.v1+output": {
       "datasetInfos": [],
       "data": "<div class=\"ansiout\">Manifest file generated to layers: (&#39;bronze&#39;,)\n</div>",
       "removedWidgets": [],
       "addedWidgets": {},
       "type": "html",
       "arguments": {}
      }
     },
     "data": {
      "text/html": [
       "<style scoped>\n  .ansiout {\n    display: block;\n    unicode-bidi: embed;\n    white-space: pre-wrap;\n    word-wrap: break-word;\n    word-break: break-all;\n    font-family: \"Source Code Pro\", \"Menlo\", monospace;;\n    font-size: 13px;\n    color: #555;\n    margin-left: 4px;\n    line-height: 19px;\n  }\n</style>\n<div class=\"ansiout\">Manifest file generated to layers: (&#39;bronze&#39;,)\n</div>"
      ]
     }
    }
   ],
   "execution_count": 0
  },
  {
   "cell_type": "markdown",
   "source": [
    "##### Transformação"
   ],
   "metadata": {
    "application/vnd.databricks.v1+cell": {
     "title": "",
     "showTitle": false,
     "inputWidgets": {},
     "nuid": "dca208ec-10f4-45a4-a6a2-f50ad81274e7"
    }
   }
  },
  {
   "cell_type": "code",
   "source": [
    "order = order.withColumn('order_created_at_time', date_format('order_created_at', 'HH:mm:ss')) \\\n  .withColumn('order_created_at_date', date_format('order_created_at', 'yyyy-MM-dd')) \\\n  .withColumn('delivery_address_latitude', col('delivery_address_latitude').cast('decimal')) \\\n  .withColumn('delivery_address_longitude', col('delivery_address_longitude').cast('decimal')) \\\n  .withColumn('merchant_latitude', col('merchant_latitude').cast('decimal')) \\\n  .withColumn('merchant_longitude', col('merchant_longitude').cast('decimal')) \\\n  .withColumn('order_created_at', col('order_created_at').cast('timestamp')) \\\n  .withColumn('delivery_address_longitude', col('delivery_address_longitude').cast('decimal')) \\\n  .withColumn('delivery_address_longitude', col('delivery_address_longitude').cast('decimal')) \\\n  .withColumn(\"order_items_id\", uuid_udf())\norder_items = order.select(order.order_items_id, from_json(\"items\", items_schema).alias(\"items\"))\norder = order.drop('items')\norder_id_columns = ['pseudonymous_id', 'customer_id', 'order_id', 'order_items_id','merchant_id']\norder = order.select(*order_id_columns,*(upper(col(c)).alias(c) for c in order.columns if c not in order_id_columns))\n\n#order.write.format(\"delta\").mode('overwrite').save(PATH_DELTA_SILVER_ORDER)\n\norder = order.alias('order').join(restaurant.alias('restaurant'), order.merchant_id == restaurant.id).select('order.*',col('restaurant.price_range').alias('merchant_price_range'), col('restaurant.takeout_time').alias('merchant_takeout_time'), col('delivery_time').alias('merchant_delivery_time'), col('minimum_order_value').alias('merchant_minimum_order_value'), col('merchant_city').alias('merchant_city'), col('merchant_zip_code').alias('merchant_zip_code'), col('merchant_state').alias('merchant_state'), col( 'merchant_country').alias( 'merchant_country')).cache()\n\norder.write.format(\"delta\").mode('overwrite').save(PATH_DELTA_SILVER_ORDER)\norder.write.format(\"delta\").mode('overwrite').save(PATH_DELTA_GOLD_ORDER)"
   ],
   "metadata": {
    "application/vnd.databricks.v1+cell": {
     "title": "",
     "showTitle": false,
     "inputWidgets": {},
     "nuid": "0cfe8720-33f2-4e6d-b0ec-bd1baf33fa79"
    }
   },
   "outputs": [
    {
     "output_type": "display_data",
     "metadata": {
      "application/vnd.databricks.v1+output": {
       "datasetInfos": [],
       "data": "<div class=\"ansiout\"></div>",
       "removedWidgets": [],
       "addedWidgets": {},
       "type": "html",
       "arguments": {}
      }
     },
     "data": {
      "text/html": [
       "<style scoped>\n  .ansiout {\n    display: block;\n    unicode-bidi: embed;\n    white-space: pre-wrap;\n    word-wrap: break-word;\n    word-break: break-all;\n    font-family: \"Source Code Pro\", \"Menlo\", monospace;;\n    font-size: 13px;\n    color: #555;\n    margin-left: 4px;\n    line-height: 19px;\n  }\n</style>\n<div class=\"ansiout\"></div>"
      ]
     }
    }
   ],
   "execution_count": 0
  },
  {
   "cell_type": "code",
   "source": [
    "#order = spark.read.format(\"delta\").load(PATH_DELTA_SILVER_ORDER)\norder_items = order_items.select(col(\"order_items_id\"), explode(\"items\").alias('items')) \\\n  .select('order_items_id',\n            col('items.name'),\n            'items.quantity',\n            col('items.addition.value').alias('addition_value'),\n            col('items.addition.currency').alias('addition_currency'),\n            col('items.discount.value').alias('discount_value'),\n            col('items.discount.currency').alias('discount_currency'),\n            \n            col('items.unitPrice.value').alias('unit_price_value'),\n            col('items.unitPrice.currency').alias('unit_price_currency'),\n            \n            col('items.totalValue.value').alias('total_value_value'),\n            col('items.totalValue.currency').alias('total_value_currency'),\n            \n            col('items.customerNote').alias('customer_note'),\n            col('items.integrationId').alias('integration_id'),\n            col('items.categoryName').alias('category_name'),\n            \n            col('items.totalAddition.value').alias('total_addition_value'),\n            col('items.totalAddition.currency').alias('total_addition_currency'),\n\n            col('items.totalDiscount.value').alias('total_discount_value'),\n            col('items.totalDiscount.currency').alias('total_discount_currency'),\n                \n            col('items.garnishItems').alias(\"garnish_items\")\n           ) \\\n          .withColumn(\"garnish_items_id\", uuid_udf())\n\n#order_items = order_items.select('order_id',*(upper(col(c)).alias(c) for c in order_items.columns if c not in ['order_id', 'garnish_items']))\norder_garnish_items = order_items.select(col(\"garnish_items_id\"), explode(\"garnish_items\").alias('garnish_items'))\norder_items = order_items.drop('garnish_items')\n\norder_items_id_columns = ['order_items_id']\norder_items = order_items.select(*order_items_id_columns,*(upper(col(c)).alias(c) for c in order_items.columns if c not in order_items_id_columns))\n\norder_items = order_items.withColumn('quantity', col('quantity').cast('integer')) \\\n  .withColumn('addition_value', col('addition_value').cast('decimal')) \\\n  .withColumn('discount_value', col('discount_value').cast('decimal')) \\\n  .withColumn('unit_price_value', col('unit_price_value').cast('decimal')) \\\n  .withColumn('total_value_value', col('total_value_value').cast('decimal')) \\\n  .withColumn('total_addition_value', col('total_addition_value').cast('decimal')) \\\n  .withColumn('total_discount_value', col('total_discount_value').cast('decimal')).cache()\n\norder_items.write.format(\"delta\").mode('overwrite').save(PATH_DELTA_SILVER_ORDER_ITEM)\norder_items.write.format(\"delta\").mode('overwrite').save(PATH_DELTA_GOLD_ORDER_ITEM)"
   ],
   "metadata": {
    "application/vnd.databricks.v1+cell": {
     "title": "",
     "showTitle": false,
     "inputWidgets": {},
     "nuid": "247ea201-7d7c-4241-b156-59c7850d31b5"
    }
   },
   "outputs": [
    {
     "output_type": "display_data",
     "metadata": {
      "application/vnd.databricks.v1+output": {
       "datasetInfos": [],
       "data": "<div class=\"ansiout\"></div>",
       "removedWidgets": [],
       "addedWidgets": {},
       "type": "html",
       "arguments": {}
      }
     },
     "data": {
      "text/html": [
       "<style scoped>\n  .ansiout {\n    display: block;\n    unicode-bidi: embed;\n    white-space: pre-wrap;\n    word-wrap: break-word;\n    word-break: break-all;\n    font-family: \"Source Code Pro\", \"Menlo\", monospace;;\n    font-size: 13px;\n    color: #555;\n    margin-left: 4px;\n    line-height: 19px;\n  }\n</style>\n<div class=\"ansiout\"></div>"
      ]
     }
    }
   ],
   "execution_count": 0
  },
  {
   "cell_type": "code",
   "source": [
    "order_garnish_items = order_garnish_items.select('garnish_items_id',\n                'garnish_items.name',\n                'garnish_items.quantity',\n                col('garnish_items.addition.value').alias('addition_value'),\n                col('garnish_items.addition.currency').alias('addition_currency'),\n                col('garnish_items.discount.value').alias('discount_value'),\n                col('garnish_items.discount.currency').alias('discount_currency'),\n                'garnish_items.sequence',\n                col('garnish_items.unitPrice.value').alias('unit_price_value'),\n                col('garnish_items.unitPrice.currency').alias('unit_price_currency'),\n                col('garnish_items.categoryId').alias('category_id'),\n                col('garnish_items.categoryName').alias('category_name'),\n                col('garnish_items.integrationId').alias('integration_id'),\n                col('garnish_items.totalValue.value').alias('total_value_value'),\n                col('garnish_items.totalValue.currency').alias('total_value_currency')\n           ) \n\norder_garnish_items = order_garnish_items.select('garnish_items_id',*(upper(col(c)).alias(c) for c in order_garnish_items.columns if c != 'garnish_items_id'))\n\norder_garnish_items = order_garnish_items.withColumn('quantity', col('quantity').cast('integer')) \\\n  .withColumn('addition_value', col('addition_value').cast('decimal')) \\\n  .withColumn('discount_value', col('discount_value').cast('decimal')) \\\n  .withColumn('unit_price_value', col('unit_price_value').cast('decimal')) \\\n  .withColumn('total_value_value', col('total_value_value').cast('decimal')).cache()\n\norder_garnish_items.write.format(\"delta\").mode('overwrite').save(PATH_DELTA_SILVER_ORDER_GARNISH_ITEM)\norder_garnish_items.write.format(\"delta\").mode('overwrite').save(PATH_DELTA_GOLD_ORDER_GARNISH_ITEM)"
   ],
   "metadata": {
    "application/vnd.databricks.v1+cell": {
     "title": "",
     "showTitle": false,
     "inputWidgets": {},
     "nuid": "af89833a-77da-4f0b-aaf0-598286805c25"
    }
   },
   "outputs": [
    {
     "output_type": "display_data",
     "metadata": {
      "application/vnd.databricks.v1+output": {
       "datasetInfos": [],
       "data": "<div class=\"ansiout\"></div>",
       "removedWidgets": [],
       "addedWidgets": {},
       "type": "html",
       "arguments": {}
      }
     },
     "data": {
      "text/html": [
       "<style scoped>\n  .ansiout {\n    display: block;\n    unicode-bidi: embed;\n    white-space: pre-wrap;\n    word-wrap: break-word;\n    word-break: break-all;\n    font-family: \"Source Code Pro\", \"Menlo\", monospace;;\n    font-size: 13px;\n    color: #555;\n    margin-left: 4px;\n    line-height: 19px;\n  }\n</style>\n<div class=\"ansiout\"></div>"
      ]
     }
    }
   ],
   "execution_count": 0
  },
  {
   "cell_type": "code",
   "source": [
    "consumer_id_columns = ['pseudonymous_id', 'customer_id']\nconsumer = consumer.select(*consumer_id_columns,*(upper(col(c)).alias(c) for c in consumer.columns if c not in consumer_id_columns))\n\nconsumer = consumer.withColumn('created_at', col('created_at').cast('timestamp')) \\\n  .withColumn('active', col('active').cast('boolean'))\n\nconsumer.write.format(\"delta\").mode('overwrite').save(PATH_DELTA_SILVER_CONSUMER)"
   ],
   "metadata": {
    "application/vnd.databricks.v1+cell": {
     "title": "",
     "showTitle": false,
     "inputWidgets": {},
     "nuid": "eb60a33d-b2c7-4111-ac67-b233bb781cb2"
    }
   },
   "outputs": [
    {
     "output_type": "display_data",
     "metadata": {
      "application/vnd.databricks.v1+output": {
       "datasetInfos": [],
       "data": "<div class=\"ansiout\"></div>",
       "removedWidgets": [],
       "addedWidgets": {},
       "type": "html",
       "arguments": {}
      }
     },
     "data": {
      "text/html": [
       "<style scoped>\n  .ansiout {\n    display: block;\n    unicode-bidi: embed;\n    white-space: pre-wrap;\n    word-wrap: break-word;\n    word-break: break-all;\n    font-family: \"Source Code Pro\", \"Menlo\", monospace;;\n    font-size: 13px;\n    color: #555;\n    margin-left: 4px;\n    line-height: 19px;\n  }\n</style>\n<div class=\"ansiout\"></div>"
      ]
     }
    }
   ],
   "execution_count": 0
  },
  {
   "cell_type": "code",
   "source": [
    "restaurant.write.format(\"delta\").mode('overwrite').save(PATH_DELTA_SILVER_RESTAURANT)"
   ],
   "metadata": {
    "application/vnd.databricks.v1+cell": {
     "title": "",
     "showTitle": false,
     "inputWidgets": {},
     "nuid": "df1e81a8-4555-4bf3-b4a3-628fca40fdef"
    }
   },
   "outputs": [
    {
     "output_type": "display_data",
     "metadata": {
      "application/vnd.databricks.v1+output": {
       "datasetInfos": [],
       "data": "<div class=\"ansiout\"></div>",
       "removedWidgets": [],
       "addedWidgets": {},
       "type": "html",
       "arguments": {}
      }
     },
     "data": {
      "text/html": [
       "<style scoped>\n  .ansiout {\n    display: block;\n    unicode-bidi: embed;\n    white-space: pre-wrap;\n    word-wrap: break-word;\n    word-break: break-all;\n    font-family: \"Source Code Pro\", \"Menlo\", monospace;;\n    font-size: 13px;\n    color: #555;\n    margin-left: 4px;\n    line-height: 19px;\n  }\n</style>\n<div class=\"ansiout\"></div>"
      ]
     }
    }
   ],
   "execution_count": 0
  },
  {
   "cell_type": "code",
   "source": [
    "generate_manifest_files('silver','gold')"
   ],
   "metadata": {
    "application/vnd.databricks.v1+cell": {
     "title": "",
     "showTitle": false,
     "inputWidgets": {},
     "nuid": "0f071ec7-b404-4453-b518-2548492a02af"
    }
   },
   "outputs": [
    {
     "output_type": "display_data",
     "metadata": {
      "application/vnd.databricks.v1+output": {
       "datasetInfos": [],
       "data": "<div class=\"ansiout\">Manifest file generated to layers: (&#39;silver&#39;, &#39;gold&#39;)\n</div>",
       "removedWidgets": [],
       "addedWidgets": {},
       "type": "html",
       "arguments": {}
      }
     },
     "data": {
      "text/html": [
       "<style scoped>\n  .ansiout {\n    display: block;\n    unicode-bidi: embed;\n    white-space: pre-wrap;\n    word-wrap: break-word;\n    word-break: break-all;\n    font-family: \"Source Code Pro\", \"Menlo\", monospace;;\n    font-size: 13px;\n    color: #555;\n    margin-left: 4px;\n    line-height: 19px;\n  }\n</style>\n<div class=\"ansiout\">Manifest file generated to layers: (&#39;silver&#39;, &#39;gold&#39;)\n</div>"
      ]
     }
    }
   ],
   "execution_count": 0
  },
  {
   "cell_type": "code",
   "source": [
    "# Adicionamente, podemos colocar as informações no mesmo conjunto de arquivos que serão usadas com muita frequencia para agregações na API.\nspark.sql(\"OPTIMIZE delta.`s3://{}/delta_lake/gold/order/` ZORDER BY (order_scheduled_date, delivery_address_state, delivery_address_city);\".format(S3_BUCKET_NAME))\n\n# Caso haja necessacidade podemos também fazê-lo pelo id\n# spark.sql(\"OPTIMIZE delta.`s3://{}/delta_lake/gold/order/` ZORDER BY (customer_id);\".format(S3_BUCKET_NAME))"
   ],
   "metadata": {
    "application/vnd.databricks.v1+cell": {
     "title": "",
     "showTitle": false,
     "inputWidgets": {},
     "nuid": "2dfece70-5166-4694-b063-f8dc849b8b57"
    }
   },
   "outputs": [
    {
     "output_type": "display_data",
     "metadata": {
      "application/vnd.databricks.v1+output": {
       "datasetInfos": [],
       "data": "<div class=\"ansiout\">Out[98]: DataFrame[path: string, metrics: struct&lt;numFilesAdded:bigint,numFilesRemoved:bigint,filesAdded:struct&lt;min:bigint,max:bigint,avg:double,totalFiles:bigint,totalSize:bigint&gt;,filesRemoved:struct&lt;min:bigint,max:bigint,avg:double,totalFiles:bigint,totalSize:bigint&gt;,partitionsOptimized:bigint,zOrderStats:struct&lt;strategyName:string,inputCubeFiles:struct&lt;num:bigint,size:bigint&gt;,inputOtherFiles:struct&lt;num:bigint,size:bigint&gt;,inputNumCubes:bigint,mergedFiles:struct&lt;num:bigint,size:bigint&gt;,numOutputCubes:bigint,mergedNumCubes:bigint&gt;,numBatches:bigint&gt;]</div>",
       "removedWidgets": [],
       "addedWidgets": {},
       "type": "html",
       "arguments": {}
      }
     },
     "data": {
      "text/html": [
       "<style scoped>\n  .ansiout {\n    display: block;\n    unicode-bidi: embed;\n    white-space: pre-wrap;\n    word-wrap: break-word;\n    word-break: break-all;\n    font-family: \"Source Code Pro\", \"Menlo\", monospace;;\n    font-size: 13px;\n    color: #555;\n    margin-left: 4px;\n    line-height: 19px;\n  }\n</style>\n<div class=\"ansiout\">Out[98]: DataFrame[path: string, metrics: struct&lt;numFilesAdded:bigint,numFilesRemoved:bigint,filesAdded:struct&lt;min:bigint,max:bigint,avg:double,totalFiles:bigint,totalSize:bigint&gt;,filesRemoved:struct&lt;min:bigint,max:bigint,avg:double,totalFiles:bigint,totalSize:bigint&gt;,partitionsOptimized:bigint,zOrderStats:struct&lt;strategyName:string,inputCubeFiles:struct&lt;num:bigint,size:bigint&gt;,inputOtherFiles:struct&lt;num:bigint,size:bigint&gt;,inputNumCubes:bigint,mergedFiles:struct&lt;num:bigint,size:bigint&gt;,numOutputCubes:bigint,mergedNumCubes:bigint&gt;,numBatches:bigint&gt;]</div>"
      ]
     }
    }
   ],
   "execution_count": 0
  },
  {
   "cell_type": "markdown",
   "source": [
    "##### Fim pipeline"
   ],
   "metadata": {
    "application/vnd.databricks.v1+cell": {
     "title": "",
     "showTitle": false,
     "inputWidgets": {},
     "nuid": "c893baab-c2bb-4e81-944f-4c1a47dbfec4"
    }
   }
  },
  {
   "cell_type": "markdown",
   "source": [
    "##### Otimizações"
   ],
   "metadata": {
    "application/vnd.databricks.v1+cell": {
     "title": "",
     "showTitle": false,
     "inputWidgets": {},
     "nuid": "a09d1df3-8b50-4aa5-b638-7a4ce558410b"
    }
   }
  },
  {
   "cell_type": "code",
   "source": [
    "# Utilizamos overwrite durante todos os processos de escrita, mas isso varia de acordo com as regras especificadas pelo negócio. Caso, por exemplo, tenhamos um modelo incremental, pode fazer o merge dos dados."
   ],
   "metadata": {
    "application/vnd.databricks.v1+cell": {
     "title": "",
     "showTitle": false,
     "inputWidgets": {},
     "nuid": "0a2a5609-a31f-40ce-ada7-d4593f727d39"
    }
   },
   "outputs": [
    {
     "output_type": "display_data",
     "metadata": {
      "application/vnd.databricks.v1+output": {
       "datasetInfos": [],
       "data": "<div class=\"ansiout\"></div>",
       "removedWidgets": [],
       "addedWidgets": {},
       "type": "html",
       "arguments": {}
      }
     },
     "data": {
      "text/html": [
       "<style scoped>\n  .ansiout {\n    display: block;\n    unicode-bidi: embed;\n    white-space: pre-wrap;\n    word-wrap: break-word;\n    word-break: break-all;\n    font-family: \"Source Code Pro\", \"Menlo\", monospace;;\n    font-size: 13px;\n    color: #555;\n    margin-left: 4px;\n    line-height: 19px;\n  }\n</style>\n<div class=\"ansiout\"></div>"
      ]
     }
    }
   ],
   "execution_count": 0
  },
  {
   "cell_type": "code",
   "source": [
    "generate_symlink_format_manifest('bronze','silver','gold')\n#optimize_delta_tables('bronze','silver','gold')"
   ],
   "metadata": {
    "application/vnd.databricks.v1+cell": {
     "title": "",
     "showTitle": false,
     "inputWidgets": {},
     "nuid": "c4fa35b2-da94-4755-aa81-62f343fca027"
    }
   },
   "outputs": [
    {
     "output_type": "display_data",
     "metadata": {
      "application/vnd.databricks.v1+output": {
       "datasetInfos": [],
       "data": "<div class=\"ansiout\">symlinkFormatManifest enabled to all tables in layers: (&#39;bronze&#39;, &#39;silver&#39;, &#39;gold&#39;)\n</div>",
       "removedWidgets": [],
       "addedWidgets": {},
       "type": "html",
       "arguments": {}
      }
     },
     "data": {
      "text/html": [
       "<style scoped>\n  .ansiout {\n    display: block;\n    unicode-bidi: embed;\n    white-space: pre-wrap;\n    word-wrap: break-word;\n    word-break: break-all;\n    font-family: \"Source Code Pro\", \"Menlo\", monospace;;\n    font-size: 13px;\n    color: #555;\n    margin-left: 4px;\n    line-height: 19px;\n  }\n</style>\n<div class=\"ansiout\">symlinkFormatManifest enabled to all tables in layers: (&#39;bronze&#39;, &#39;silver&#39;, &#39;gold&#39;)\n</div>"
      ]
     }
    }
   ],
   "execution_count": 0
  },
  {
   "cell_type": "markdown",
   "source": [
    "##### Exemplo de streaming"
   ],
   "metadata": {
    "application/vnd.databricks.v1+cell": {
     "title": "",
     "showTitle": false,
     "inputWidgets": {},
     "nuid": "34120204-882a-40da-a472-8e205b82a3e9"
    }
   }
  },
  {
   "cell_type": "code",
   "source": [
    "%sql\ndrop table if exists order_table;"
   ],
   "metadata": {
    "application/vnd.databricks.v1+cell": {
     "title": "",
     "showTitle": false,
     "inputWidgets": {},
     "nuid": "38fd2df8-f2b4-4967-9d04-fc65cbf3edae"
    }
   },
   "outputs": [
    {
     "output_type": "display_data",
     "metadata": {
      "application/vnd.databricks.v1+output": {
       "overflow": false,
       "datasetInfos": [],
       "data": [],
       "plotOptions": {
        "displayType": "table",
        "customPlotOptions": {},
        "pivotColumns": null,
        "pivotAggregation": null,
        "xColumns": null,
        "yColumns": null
       },
       "columnCustomDisplayInfos": {},
       "aggType": "",
       "isJsonSchema": true,
       "removedWidgets": [],
       "aggSchema": [],
       "schema": [],
       "aggError": "",
       "aggData": [],
       "addedWidgets": {},
       "dbfsResultPath": null,
       "type": "table",
       "aggOverflow": false,
       "aggSeriesLimitReached": false,
       "arguments": {}
      }
     },
     "data": {
      "text/html": [
       "<style scoped>\n  .table-result-container {\n    max-height: 300px;\n    overflow: auto;\n  }\n  table, th, td {\n    border: 1px solid black;\n    border-collapse: collapse;\n  }\n  th, td {\n    padding: 5px;\n  }\n  th {\n    text-align: left;\n  }\n</style><div class='table-result-container'><table class='table-result'><thead style='background-color: white'><tr></tr></thead><tbody></tbody></table></div>"
      ]
     }
    }
   ],
   "execution_count": 0
  },
  {
   "cell_type": "code",
   "source": [
    "if file_exists(PATH_TEMP):\n    dbutils.fs.rm(PATH_TEMP, True)\n    \ncity = ['SAO PAULO','RIO DE JANEIRO','BELO HORIZONTE','MINAS GERAIS']\norder.filter(order.delivery_address_city.isin(city)) \\\n.select('delivery_address_city', 'order_created_at', \n'order_id').withColumn('order_created_at_date', date_format('order_created_at', 'yyyy-MM-dd')) \\\n.withColumn('order_created_at_time', date_format('order_created_at', 'HH:mm:ss')) \\\n.write.format(\"delta\").partitionBy(\"order_created_at_date\").mode('overwrite').save(PATH_TEMP+'/raw_in')\n\ndf_order = spark.read.format(\"delta\").load(PATH_TEMP+'/raw_in').limit(10)\nstream_order = spark.readStream.format(\"delta\").option(\"rowsPerSecond\", 100).load(PATH_TEMP+'/raw_in')\n\nstream_order.writeStream \\\n    .format(\"delta\") \\\n    .option('checkpointLocation', PATH_TEMP + \"/_chk\") \\\n    .trigger(processingTime = \"5 seconds\") \\\n    .table(\"order_table\")"
   ],
   "metadata": {
    "application/vnd.databricks.v1+cell": {
     "title": "",
     "showTitle": false,
     "inputWidgets": {},
     "nuid": "5c323a2e-4716-4d4a-afd3-df2830343b6c"
    }
   },
   "outputs": [
    {
     "output_type": "display_data",
     "metadata": {
      "application/vnd.databricks.v1+output": {
       "datasetInfos": [],
       "data": "<div class=\"ansiout\">Out[109]: &lt;pyspark.sql.streaming.StreamingQuery at 0x7fdd967c33d0&gt;</div>",
       "removedWidgets": [],
       "addedWidgets": {},
       "type": "html",
       "arguments": {}
      }
     },
     "data": {
      "text/html": [
       "<style scoped>\n  .ansiout {\n    display: block;\n    unicode-bidi: embed;\n    white-space: pre-wrap;\n    word-wrap: break-word;\n    word-break: break-all;\n    font-family: \"Source Code Pro\", \"Menlo\", monospace;;\n    font-size: 13px;\n    color: #555;\n    margin-left: 4px;\n    line-height: 19px;\n  }\n</style>\n<div class=\"ansiout\">Out[109]: &lt;pyspark.sql.streaming.StreamingQuery at 0x7fdd967c33d0&gt;</div>"
      ]
     }
    }
   ],
   "execution_count": 0
  },
  {
   "cell_type": "code",
   "source": [
    "display(spark.readStream.format(\"delta\").table(\"order_table\").groupBy(\"delivery_address_city\").count())"
   ],
   "metadata": {
    "application/vnd.databricks.v1+cell": {
     "title": "",
     "showTitle": false,
     "inputWidgets": {},
     "nuid": "baa24753-d514-45e4-a56d-8fed46af0ec0"
    }
   },
   "outputs": [
    {
     "output_type": "display_data",
     "metadata": {
      "application/vnd.databricks.v1+output": {
       "datasetInfos": [],
       "data": "<div class=\"ansiout\"></div>",
       "removedWidgets": [],
       "addedWidgets": {},
       "type": "html",
       "arguments": {}
      }
     },
     "data": {
      "text/html": [
       "<style scoped>\n  .ansiout {\n    display: block;\n    unicode-bidi: embed;\n    white-space: pre-wrap;\n    word-wrap: break-word;\n    word-break: break-all;\n    font-family: \"Source Code Pro\", \"Menlo\", monospace;;\n    font-size: 13px;\n    color: #555;\n    margin-left: 4px;\n    line-height: 19px;\n  }\n</style>\n<div class=\"ansiout\"></div>"
      ]
     }
    }
   ],
   "execution_count": 0
  },
  {
   "cell_type": "code",
   "source": [
    "def stop_all_streams(runtime):\n  \"\"\" O streaming é realizado a título de exemplo. Assim esperamos N segundos para parar sua execução. \"\"\"\n  print(\"Waiting for {} sec's to streaming example...\".format(runtime))\n  time.sleep(runtime)\n  try:\n      [stream.stop() for stream in spark.streams.active]\n      print(\"Streams stoped.\")\n  except:\n    print(\"No stream to stop.\")\n    \nstop_all_streams(60)"
   ],
   "metadata": {
    "application/vnd.databricks.v1+cell": {
     "title": "",
     "showTitle": false,
     "inputWidgets": {},
     "nuid": "8582af40-6ad8-4503-8e67-cbe49e65b140"
    }
   },
   "outputs": [
    {
     "output_type": "display_data",
     "metadata": {
      "application/vnd.databricks.v1+output": {
       "datasetInfos": [],
       "data": "<div class=\"ansiout\">Waiting for 10 sec&#39;s to streaming example...\nStreams stoped.\n</div>",
       "removedWidgets": [],
       "addedWidgets": {},
       "type": "html",
       "arguments": {}
      }
     },
     "data": {
      "text/html": [
       "<style scoped>\n  .ansiout {\n    display: block;\n    unicode-bidi: embed;\n    white-space: pre-wrap;\n    word-wrap: break-word;\n    word-break: break-all;\n    font-family: \"Source Code Pro\", \"Menlo\", monospace;;\n    font-size: 13px;\n    color: #555;\n    margin-left: 4px;\n    line-height: 19px;\n  }\n</style>\n<div class=\"ansiout\">Waiting for 10 sec&#39;s to streaming example...\nStreams stoped.\n</div>"
      ]
     }
    }
   ],
   "execution_count": 0
  }
 ],
 "metadata": {
  "application/vnd.databricks.v1+notebook": {
   "notebookName": "pipeline_etl",
   "dashboards": [],
   "notebookMetadata": {
    "pythonIndentUnit": 2
   },
   "language": "python",
   "widgets": {},
   "notebookOrigID": 2959424694067682
  }
 },
 "nbformat": 4,
 "nbformat_minor": 0
}